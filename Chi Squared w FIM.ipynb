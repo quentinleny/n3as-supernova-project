{
 "cells": [
  {
   "cell_type": "code",
   "execution_count": 119,
   "id": "bf3f10fa-1573-4a37-955f-0f224890a193",
   "metadata": {},
   "outputs": [
    {
     "data": {
      "text/plain": [
       "0     -0.133792\n",
       "1     -0.056714\n",
       "2     -0.047660\n",
       "3     -0.055663\n",
       "4      0.235631\n",
       "         ...   \n",
       "575    0.108170\n",
       "576    0.088156\n",
       "577    0.034536\n",
       "578    0.577946\n",
       "579   -0.351542\n",
       "Name: m_diff, Length: 580, dtype: float64"
      ]
     },
     "execution_count": 119,
     "metadata": {},
     "output_type": "execute_result"
    }
   ],
   "source": [
    "import numpy as np\n",
    "import pandas as pd\n",
    "import matplotlib.pyplot as plt\n",
    "from scipy.integrate import quad\n",
    "from scipy.optimize import minimize\n",
    "from scipy.stats import norm\n",
    "\n",
    "# Base Constants\n",
    "H_0 = 70  # km/s/Mpc\n",
    "c = 2.99792458e5  # km/s\n",
    "M = -19.3146267582  # SN Absolute Magnitude\n",
    "M_n = 25 - 5*np.log10(H_0) #Script_M\n",
    "Omega_R = 1e-8 \n",
    "\n",
    "# Test Guess Constants\n",
    "Omega_M = 0.27\n",
    "Omega_DE = 0.73\n",
    "Omega_K = 0.0001\n",
    "w = -1\n",
    "k = 0\n",
    "\n",
    "# Supernova Data\n",
    "\n",
    "data = pd.read_csv('SCPUnion2.1_mu_vs_z.txt', sep='\\t', comment='#', usecols=[0, 1, 2, 3], names=['SNe', 'z', 'm', 'm_err'])\n",
    "\n",
    "\n",
    "# Covariance matrix\n",
    "\n",
    "data_cov = pd.read_csv('SCPUnion2.1_covmat_nosys.txt', sep=r'\\s+', header=None)\n",
    "\n",
    "\n",
    "# Calculation of r(z)\n",
    "\n",
    "def integrand(z, Omega_M, Omega_DE, w, Omega_K, k):\n",
    "    return 1 / (H_0 * np.sqrt(Omega_M * (1 + z)**(3) + Omega_DE * (1 + z)**(3 * (1 + w)) + Omega_R * (1 + z)**(4) - Omega_K * (1 + z)**(2)))\n",
    "\n",
    "def r(z, Omega_M, Omega_DE, w, Omega_K, k):\n",
    "    r_0 = 1 / (H_0 * np.sqrt(np.abs(Omega_K)))\n",
    "    if k == 1:\n",
    "        return c * r_0 * np.sin(quad(integrand, 0, z, args=(Omega_M, Omega_DE, w, Omega_K, k))[0] / r_0)\n",
    "    elif k == 0:\n",
    "        return c * quad(integrand, 0, z, args=(Omega_M, Omega_DE, w, Omega_K, k))[0]\n",
    "    elif k == -1:\n",
    "        return c * r_0 * np.sinh(quad(integrand, 0, z, args=(Omega_M, Omega_DE, w, Omega_K, k))[0] / r_0)\n",
    "\n",
    "# Calculation of d_l\n",
    "\n",
    "def d_L(z, Omega_M, Omega_DE, w, Omega_K, k):\n",
    "    return (1 + z) * r(z, Omega_M, Omega_DE, w, Omega_K, k)\n",
    "\n",
    "# Calculation of m(z, {pj})\n",
    "\n",
    "def m_th(z, Omega_M, Omega_DE, w, M_n, Omega_K, k):\n",
    "    return 5 * np.log10(H_0*d_L(z, Omega_M, Omega_DE, w, Omega_K, k)) + M_n\n",
    "\n",
    "# Calculation of (m - m^th)\n",
    "def m_diff_vector(z, Omega_M, Omega_DE, w, M_n, Omega_K, k):\n",
    "\n",
    "    data['m_th'] = data['z'].apply(lambda z: m_th(z, Omega_M, Omega_DE, w, M_n, Omega_K, k))\n",
    "    data['m_diff'] = data['m'] - data['m_th']\n",
    "    return data['m_diff']\n",
    "\n",
    "m_diff_vector(data['z'], Omega_M, Omega_DE, w, M_n, Omega_K, k)"
   ]
  },
  {
   "cell_type": "code",
   "execution_count": 127,
   "id": "55a34bdd-5cd8-4baf-9547-edd64faa4d6d",
   "metadata": {},
   "outputs": [
    {
     "name": "stdout",
     "output_type": "stream",
     "text": [
      "Fisher Matrix (Flat Universe):\n",
      "[[ 38115.60602495   5908.65033867 -26722.06773794]\n",
      " [  5908.65033867   1112.78055395  -3795.8351101 ]\n",
      " [-26722.06773794  -3795.8351101   19434.07720832]]\n"
     ]
    }
   ],
   "source": [
    "def fisher_matrix(data, params, vary_params, k=0):\n",
    "    param_keys = list(vary_params)\n",
    "    n_params = len(param_keys)\n",
    "    fisher = np.zeros((n_params, n_params))\n",
    "    h = 1e-5\n",
    "    \n",
    "    for i in range(n_params):\n",
    "        for j in range(n_params):\n",
    "            base_params = params.copy()\n",
    "\n",
    "            # Modify parameters i and j\n",
    "            base_params[param_keys[i]] += h\n",
    "            m_th1 = data['z'].apply(lambda z: m_th(z, **base_params, Omega_K=0.0001, k=k))\n",
    "\n",
    "            base_params[param_keys[i]] -= 2 * h\n",
    "            m_th2 = data['z'].apply(lambda z: m_th(z, **base_params, Omega_K=0.0001, k=k))\n",
    "\n",
    "            # Reset to original\n",
    "            base_params[param_keys[i]] += h\n",
    "            \n",
    "            # Central difference for partial derivatives\n",
    "            dm_dpi = (m_th1 - m_th2) / (2 * h)\n",
    "\n",
    "            if i == j:  # Diagonal elements, derivative wrt same parameter\n",
    "                fisher[i, j] = np.sum((dm_dpi**2) / (data['m_err']**2))\n",
    "            else:  # Off-diagonal elements, mixed partial derivatives\n",
    "                base_params[param_keys[j]] += h\n",
    "                m_th1 = data['z'].apply(lambda z: m_th(z, **base_params, Omega_K=0.0001, k=k))\n",
    "\n",
    "                base_params[param_keys[j]] -= 2 * h\n",
    "                m_th2 = data['z'].apply(lambda z: m_th(z, **base_params, Omega_K=0.0001, k=k))\n",
    "\n",
    "                dm_dpj = (m_th1 - m_th2) / (2 * h)\n",
    "                fisher[i, j] = np.sum((dm_dpi * dm_dpj) / (data['m_err']**2))\n",
    "\n",
    "    return fisher\n",
    "\n",
    "# Define parameters\n",
    "params = {'Omega_M': 0.278, 'Omega_DE': 0.722, 'w': -1, 'M_n': 25 - 5 * np.log10(70)}\n",
    "\n",
    "# Define which parameters vary for k=0\n",
    "vary_params_flat = ['Omega_M', 'w', 'M_n']\n",
    "F_flat = fisher_matrix(data, params, vary_params_flat, k=0)\n",
    "\n",
    "print(\"Fisher Matrix (Flat Universe):\")\n",
    "print(F_flat)"
   ]
  },
  {
   "cell_type": "code",
   "execution_count": 128,
   "id": "a7042233-3e13-4eb9-bb13-00ae2f718231",
   "metadata": {},
   "outputs": [
    {
     "name": "stdout",
     "output_type": "stream",
     "text": [
      "Chi-squared value: 246.3823406484097\n"
     ]
    }
   ],
   "source": [
    "def chi_squared(data, params, vary_params, k=0):\n",
    "    # Use Cramer-Rao inequality to find uncertainties\n",
    "    F = fisher_matrix(data, params, vary_params, k)\n",
    "    F_inverted = np.linalg.inv(F)\n",
    "    parameter_uncertainties = np.sqrt(np.diag(F_inverted))\n",
    "\n",
    "    # Recalculate residuals\n",
    "    m_diff = m_diff_vector(data['z'], **params, Omega_K = 0.0001, k=k)\n",
    "\n",
    "    # Calculate chi-squared\n",
    "    combined_uncertainties = np.sum(parameter_uncertainties)\n",
    "    chi2 = np.sum((m_diff / combined_uncertainties)**2)\n",
    "    return chi2\n",
    "\n",
    "# Example parameters\n",
    "params = {'Omega_M': 0.278, 'Omega_DE': 0.722, 'w': -1, 'M_n': 25 - 5 * np.log10(70)}\n",
    "vary_params = ['Omega_M', 'w', 'M_n']\n",
    "\n",
    "chi2_value = chi_squared(data, params, vary_params, k=0)\n",
    "print(\"Chi-squared value:\", chi2_value)"
   ]
  },
  {
   "cell_type": "code",
   "execution_count": 131,
   "id": "379baaae-1fe6-419c-9577-8f7c94af4b15",
   "metadata": {},
   "outputs": [
    {
     "data": {
      "text/plain": [
       "276.6624246242023"
      ]
     },
     "execution_count": 131,
     "metadata": {},
     "output_type": "execute_result"
    }
   ],
   "source": [
    "# Calculation of the likelihood\n",
    "\n",
    "def log_likelihood(cov, data, params, vary_params, k=0):\n",
    "    # Calculate the log of the determinant and the sign of the determinant for the regularized matrix\n",
    "    sign, log_det = np.linalg.slogdet(cov)\n",
    "\n",
    "    n = cov.shape[0]\n",
    "\n",
    "    log_likelihood = -0.5 * n * np.log(2 * np.pi) - 0.5 * log_det - 0.5 * chi_squared(data, params, vary_params, k=0)\n",
    "\n",
    "    return log_likelihood\n",
    "\n",
    "# Example parameters\n",
    "params = {'Omega_M': 0.278, 'Omega_DE': 0.722, 'w': -1, 'M_n': 25 - 5 * np.log10(70)}\n",
    "vary_params = ['Omega_M', 'w', 'M_n']\n",
    "\n",
    "log_likelihood(data_cov.values, data, params, vary_params, k=0)"
   ]
  },
  {
   "cell_type": "code",
   "execution_count": 162,
   "id": "d78c8f13-bfb4-4bd2-b972-b7515db7d74e",
   "metadata": {},
   "outputs": [
    {
     "name": "stdout",
     "output_type": "stream",
     "text": [
      "Most likely Omega_M: 0.99\n",
      "Most likely Omega_DE: 0.010000000000000009\n",
      "Most likely Omega_M (array max): 0.99\n",
      "68% confidence interval goes up to: 0.97\n",
      "95% confidence interval goes up to: 0.99\n"
     ]
    },
    {
     "data": {
      "image/png": "[encoded data removed]",
      "text/plain": [
       "<Figure size 1000x500 with 1 Axes>"
      ]
     },
     "metadata": {},
     "output_type": "display_data"
    }
   ],
   "source": [
    "# Fixed values\n",
    "w = -0.985 # From Union 2.1 paper\n",
    "Omega_K = 0.0001\n",
    "k = 0\n",
    "\n",
    "# Define min and max Omega_M for the range\n",
    "min_omega_m = 0.01\n",
    "max_omega_m = 0.99\n",
    "omega_m_range = np.linspace(min_omega_m, max_omega_m, 50)\n",
    "\n",
    "# Calculate, normalize likelihoods\n",
    "likelihoods_m = np.array([log_likelihood(data_cov.values, data, {'Omega_M': omega_m, 'Omega_DE': 1 - omega_m - Omega_K - Omega_R, 'w': w, 'M_n': 25 - 5 * np.log10(70)}, vary_params, k=0) for omega_m in omega_m_range])\n",
    "likelihoods_m[0] = likelihoods_m[1] # Resolve bug in abnormal dip in likelihood \n",
    "\n",
    "likelihoods_m_norm = np.exp(likelihoods_m - np.max(likelihoods_m))\n",
    "\n",
    "# Fit a polynomial to the normalized likelihood data\n",
    "coefficients = np.polyfit(omega_m_range, likelihoods_m_norm, 5)\n",
    "polynomial = np.poly1d(coefficients)\n",
    "\n",
    "# Sample the polynomial within the omega_m_range\n",
    "x_fine = np.linspace(min_omega_m, max_omega_m, 1000)\n",
    "y_fine = polynomial(x_fine)\n",
    "\n",
    "# Maximum likelihood value\n",
    "max_x = x_fine[np.argmax(y_fine)]\n",
    "most_likely_omega_m = omega_m_range[np.argmax(likelihoods_m_norm)]\n",
    "\n",
    "# Most likely values\n",
    "print(\"Most likely Omega_M:\", max_x)\n",
    "print(\"Most likely Omega_DE:\", 1 - max_x)\n",
    "print(\"Most likely Omega_M (array max):\", most_likely_omega_m)\n",
    "\n",
    "# Calculate confidence intervals\n",
    "cumulative_m_likelihood = np.cumsum(likelihoods_m_norm)\n",
    "cumulative_m_likelihood /= cumulative_m_likelihood[-1]  # Normalize to sum to 1\n",
    "\n",
    "index_68 = np.where(cumulative_m_likelihood >= 0.68)[0][0]\n",
    "index_95 = np.where(cumulative_m_likelihood >= 0.95)[0][0]\n",
    "omega_m_68 = omega_m_range[index_68]\n",
    "omega_m_95 = omega_m_range[index_95]\n",
    "\n",
    "# Confidence interval bounds\n",
    "print(\"68% confidence interval goes up to:\", omega_m_68)\n",
    "print(\"95% confidence interval goes up to:\", omega_m_95)\n",
    "\n",
    "# Plot\n",
    "plt.figure(figsize=(10, 5))\n",
    "plt.plot(omega_m_range, likelihoods_m_norm, label='Likelihood')\n",
    "plt.axvline(x=most_likely_omega_m, color='r', linestyle='--', label='Most Likely Value')\n",
    "plt.axvline(x=omega_m_68, color='g', linestyle='--', label='68% Confidence Interval')\n",
    "plt.axvline(x=omega_m_95, color='b', linestyle='--', label='95% Confidence Interval')\n",
    "plt.title('Normalized Likelihood vs. $\\\\Omega_M$')\n",
    "plt.xlabel('$\\\\Omega_M$')\n",
    "plt.ylabel('Normalized Likelihood')\n",
    "plt.legend()\n",
    "plt.grid(True)\n",
    "plt.show()"
   ]
  },
  {
   "cell_type": "code",
   "execution_count": 158,
   "id": "057f2eef-2bc8-43ed-bb8d-3b27764a7419",
   "metadata": {},
   "outputs": [
    {
     "name": "stdout",
     "output_type": "stream",
     "text": [
      "All likelihood values: [385.62670594 385.62670594 385.82324413 386.01834346 386.21200821\n",
      " 386.40424331 386.59504828 386.78442782 386.97238511 387.15892164\n",
      " 387.34404193 387.52774662 387.71003924 387.89092362 388.07039858\n",
      " 388.24846839 388.42513716 388.6004044  388.77427327 388.94674621\n",
      " 389.11782458 389.28751054 389.45580594 389.62271257 389.7882328\n",
      " 389.95236754 390.11511997 390.2764895  390.43647872 390.59509044\n",
      " 390.75232624 390.90818444 391.06266851 391.21578062 391.36752118\n",
      " 391.51789043 391.6668926  391.81452802 391.96079597 392.10569821\n",
      " 392.24923565 392.3914125  392.53222578 392.67167736 392.80977133\n",
      " 392.94650426 393.08188039 393.2159002  393.34856293 393.47986985]\n"
     ]
    }
   ],
   "source": [
    "print(\"All likelihood values:\", likelihoods_m)"
   ]
  },
  {
   "cell_type": "code",
   "execution_count": null,
   "id": "26023d09-21d2-4141-a757-527fd4b5e056",
   "metadata": {},
   "outputs": [],
   "source": [
    "# Fixed values\n",
    "fixed_omega_m = 0.276 # From Union 2.1 paper\n",
    "Omega_K = 0.0001\n",
    "k = 0\n",
    "\n",
    "# Define min and max w for the range\n",
    "min_w = -0.25\n",
    "max_w = 0.25\n",
    "w_range = np.linspace(min_w, max_w, 50)\n",
    "\n",
    "# Calculate, normalize likelihoods\n",
    "likelihoods_w = np.array([log_likelihood(data_cov.values, data, {'Omega_M': fixed_omega_m, 'Omega_DE': 1 - fixed_omega_m - Omega_K - Omega_R, 'w': w_val, 'M_n': 25 - 5 * np.log10(70)}, vary_params, k=0) for w_val in w_range])\n",
    "likelihoods_w[0] = likelihoods_w[1] # Resolve bug in abnormal dip in likelihood \n",
    "\n",
    "likelihoods_w_norm = np.exp(likelihoods_w - np.max(likelihoods_w))\n",
    "\n",
    "# Fit a polynomial to the normalized likelihood data\n",
    "coefficients_w = np.polyfit(w_range, likelihoods_w_norm, 5)\n",
    "polynomial_w = np.poly1d(coefficients_w)\n",
    "\n",
    "# Sample the polynomial within the omega_m_range\n",
    "x_fine_w = np.linspace(min_w, max_w, 1000)\n",
    "y_fine_w = polynomial_w(x_fine_w)\n",
    "\n",
    "# Maximum likelihood value\n",
    "max_x_w = x_fine_w[np.argmax(y_fine_w)]\n",
    "most_likely_w = w_range[np.argmax(likelihoods_w_norm)]\n",
    "\n",
    "# Most likely values\n",
    "most_likely_w = w_range[np.argmax(likelihoods_w_norm)]\n",
    "print(\"Most likely w:\", most_likely_w)\n",
    "\n",
    "# Calculate confidence intervals\n",
    "cumulative_likelihood_w = np.cumsum(likelihoods_w_norm)\n",
    "cumulative_likelihood_w /= cumulative_likelihood_w[-1]\n",
    "\n",
    "index_68_w = np.where(cumulative_likelihood_w >= 0.68)[0][0]\n",
    "index_95_w = np.where(cumulative_likelihood_w >= 0.95)[0][0]\n",
    "\n",
    "w_68 = w_range[index_68_w]\n",
    "w_95 = w_range[index_95_w]\n",
    "\n",
    "# Confidence interval values\n",
    "print(\"68% confidence interval for w goes up to:\", w_68)\n",
    "print(\"95% confidence interval for w goes up to:\", w_95)\n",
    "\n",
    "# Plot\n",
    "plt.figure(figsize=(10, 5))\n",
    "plt.plot(w_range, likelihoods_w_norm, label='Likelihood')\n",
    "plt.axvline(x=most_likely_w, color='r', linestyle='--', label='Most Likely Value')\n",
    "plt.axvline(x=w_68, color='g', linestyle='--', label='68% Confidence Interval')\n",
    "plt.axvline(x=w_95, color='b', linestyle='--', label='95% Confidence Interval')\n",
    "plt.title('Normalized Likelihood vs. $w$')\n",
    "plt.xlabel('$w$')\n",
    "plt.ylabel('Normalized Likelihood')\n",
    "plt.legend()\n",
    "plt.grid(True)\n",
    "plt.show()"
   ]
  },
  {
   "cell_type": "code",
   "execution_count": 159,
   "id": "e3199461-f94f-4de3-adbc-e70cf83802a1",
   "metadata": {},
   "outputs": [
    {
     "name": "stdout",
     "output_type": "stream",
     "text": [
      "All likelihood values: [398.40349645 398.40349645 398.6171868  398.80785284 398.97688096\n",
      " 399.12567229 399.25563744 399.36818938 399.46473752 399.54668061\n",
      " 399.61539965 399.67225058 399.71855657 399.75560037 399.7846164\n",
      " 399.80678233 399.82321116 399.83494269 399.84293515 399.8480566\n",
      " 399.85107643 399.85265678 399.853344   399.85356006 399.85359412\n",
      " 399.85359409 399.85355933 399.85333989 399.85264197 399.85103406\n",
      " 399.84795291 399.8427091  399.8344925  399.82237747 399.80532788\n",
      " 399.782202   399.75175709 399.71265415 399.66346223 399.60266272\n",
      " 399.52865368 399.43975386 399.33420675 399.21018447 399.06579167\n",
      " 398.89906925 398.70799808 398.49050251 398.24445425 397.96767534]\n"
     ]
    }
   ],
   "source": [
    "print(\"All likelihood values:\", likelihoods_w)"
   ]
  },
  {
   "cell_type": "code",
   "execution_count": null,
   "id": "b20268bf-3a71-4a19-afb6-6589d70b8f4b",
   "metadata": {},
   "outputs": [],
   "source": []
  }
 ],
 "metadata": {
  "kernelspec": {
   "display_name": "Python 3 (ipykernel)",
   "language": "python",
   "name": "python3"
  },
  "language_info": {
   "codemirror_mode": {
    "name": "ipython",
    "version": 3
   },
   "file_extension": ".py",
   "mimetype": "text/x-python",
   "name": "python",
   "nbconvert_exporter": "python",
   "pygments_lexer": "ipython3",
   "version": "3.12.1"
  }
 },
 "nbformat": 4,
 "nbformat_minor": 5
}
